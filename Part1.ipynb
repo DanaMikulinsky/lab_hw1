{
 "cells": [
  {
   "cell_type": "code",
   "execution_count": 12,
   "id": "initial_id",
   "metadata": {
    "collapsed": true,
    "jupyter": {
     "is_executing": true
    },
    "ExecuteTime": {
     "end_time": "2024-06-16T18:05:00.098787Z",
     "start_time": "2024-06-16T18:05:00.093842Z"
    }
   },
   "outputs": [],
   "source": [
    "import numpy as np\n",
    "from scipy import spatial \n",
    "import faiss\n",
    "import typing\n",
    "from time import time\n",
    "import matplotlib.pyplot as plt"
   ]
  },
  {
   "cell_type": "markdown",
   "id": "62f09c59a02a3b0d",
   "metadata": {},
   "source": [
    "## Helper Function"
   ]
  },
  {
   "cell_type": "code",
   "execution_count": 13,
   "id": "67518a644a21072d",
   "metadata": {
    "ExecuteTime": {
     "end_time": "2024-06-16T18:05:02.056873Z",
     "start_time": "2024-06-16T18:05:02.051261Z"
    }
   },
   "outputs": [],
   "source": [
    "def generate_vectors(\n",
    "        num_vectors: int,\n",
    "        dim: int,\n",
    "        distribution: str,\n",
    "        seed: int = 42,\n",
    ") -> np.ndarray:\n",
    "    \"\"\"\n",
    "    This function generates random vectors of uniform distribution.\n",
    "    Args:\n",
    "        num_vectors: The number of vectors to generate.\n",
    "        dim: The dimensionality of the vectors.\n",
    "        seed: The random seed.\n",
    "    Returns:\n",
    "        An array of shape (num_vectors, dim) containing the generated vectors.\n",
    "    \"\"\"\n",
    "    np.random.seed(seed)\n",
    "    return np.random.uniform(0, 1, (num_vectors, dim)).astype('float32')"
   ]
  },
  {
   "cell_type": "code",
   "execution_count": 14,
   "id": "a3e51f57a0ae70fe",
   "metadata": {
    "ExecuteTime": {
     "end_time": "2024-06-16T18:05:02.499078Z",
     "start_time": "2024-06-16T18:05:02.493270Z"
    }
   },
   "outputs": [],
   "source": [
    "def naive_exhaustive_search(\n",
    "        query_vectors: np.ndarray,\n",
    "        index_vectors: np.ndarray, \n",
    "        k: int,\n",
    ") -> np.ndarray:\n",
    "    \"\"\"\n",
    "    This function computes the k-nearest neighbors of query_vectors in index_vectors using the naive exhaustive approach.\n",
    "    Args:\n",
    "        query_vectors: An array of shape (n_queries, dim) containing the query vectors. \n",
    "        index_vectors: An array of shape (n_index, dim) containing the index vectors.\n",
    "        k: The number of nearest neighbors to retrieve.\n",
    "    Returns:\n",
    "        An array of shape (n_queries, k) containing the indices of the k-nearest neighbors for each query vector.\n",
    "    \"\"\"\n",
    "    all_distances = []\n",
    "    for query_vector in query_vectors:\n",
    "        query_distances = []\n",
    "        for index_vector in index_vectors:\n",
    "            query_distances.append(spatial.distance.euclidean(query_vector, index_vector))\n",
    "        all_distances.append(np.argsort(query_distances)[:k])\n",
    "    return np.array(all_distances)"
   ]
  },
  {
   "cell_type": "code",
   "execution_count": 15,
   "id": "c5e56a8007517ef4",
   "metadata": {
    "ExecuteTime": {
     "end_time": "2024-06-16T18:05:02.939258Z",
     "start_time": "2024-06-16T18:05:02.934860Z"
    }
   },
   "outputs": [],
   "source": [
    "def optimized_exhaustive_search(\n",
    "        query_vectors: np.ndarray,\n",
    "        index_vectors: np.ndarray,\n",
    "        k: int,\n",
    "):\n",
    "    \"\"\"\n",
    "    This function computes the k-nearest neighbors of query_vectors in index_vectors using the optimized exhaustive approach implemented in SciPy.\n",
    "    Args:\n",
    "        query_vectors: An array of shape (n_queries, dim) containing the query vectors. \n",
    "        index_vectors: An array of shape (n_index, dim) containing the index vectors.\n",
    "        k: The number of nearest neighbors to retrieve.\n",
    "    Returns:\n",
    "        An array of shape (n_queries, k) containing the indices of the k-nearest neighbors for each query vector.\n",
    "    \"\"\"\n",
    "    distances = spatial.distance.cdist(query_vectors, index_vectors, 'euclidean')\n",
    "    return np.argsort(distances, axis=1)[:, :k]"
   ]
  },
  {
   "cell_type": "code",
   "execution_count": 16,
   "id": "a8ef475c717fbe2e",
   "metadata": {
    "ExecuteTime": {
     "end_time": "2024-06-16T18:05:04.300148Z",
     "start_time": "2024-06-16T18:05:03.513311Z"
    }
   },
   "outputs": [],
   "source": [
    "def build_faiss_flatl2_index(\n",
    "        index_vectors: np.ndarray,\n",
    "        dim: int,\n",
    "):\n",
    "    \"\"\"\n",
    "    This function builds a Faiss flat L2 index.\n",
    "    Args:\n",
    "        index_vectors: An array of shape (n_index, dim) containing the index vectors.\n",
    "        dim: The dimensionality of the vectors. \n",
    "    Returns:\n",
    "        A Faiss flat L2 index.\n",
    "    \"\"\"\n",
    "    index = faiss.IndexFlatL2(dim)\n",
    "    index.add(index_vectors)\n",
    "    return index"
   ]
  },
  {
   "cell_type": "code",
   "execution_count": 17,
   "id": "1df7a2d698755a82",
   "metadata": {
    "ExecuteTime": {
     "end_time": "2024-06-16T18:05:05.121124Z",
     "start_time": "2024-06-16T18:05:04.308401Z"
    }
   },
   "outputs": [],
   "source": [
    "def faiss_search(\n",
    "        query_vectors: np.ndarray,\n",
    "        index: faiss.Index,\n",
    "        k: int,\n",
    "):\n",
    "    \"\"\"\n",
    "    This function uses a Faiss index to search for the k-nearest neighbors of query_vectors.\n",
    "    Args:\n",
    "        query_vectors: An array of shape (n_queries, dim) containing the query vectors. \n",
    "        index: A Faiss index.\n",
    "        k: The number of nearest neighbors to retrieve.\n",
    "    Returns:\n",
    "        An array of shape (n_queries, k) containing the indices of the k-nearest neighbors for each query vector.\n",
    "    \"\"\"\n",
    "    distances, indices = index.search(query_vectors, k)\n",
    "    return indices"
   ]
  },
  {
   "cell_type": "code",
   "execution_count": 18,
   "id": "af14bea64023a3d4",
   "metadata": {
    "ExecuteTime": {
     "end_time": "2024-06-16T18:05:05.292769Z",
     "start_time": "2024-06-16T18:05:05.287337Z"
    }
   },
   "outputs": [],
   "source": [
    "def build_faiss_lsh_index(\n",
    "        index_vectors: np.ndarray,\n",
    "        dim: int,\n",
    "        nbits: int,\n",
    "):\n",
    "    \"\"\"\n",
    "    This function builds a Faiss LSH index.\n",
    "    Args:\n",
    "        index_vectors: An array of shape (n_index, dim) containing the index vectors.\n",
    "        dim: The dimensionality of the vectors. \n",
    "        nbits: The number of bits to use in the hash.\n",
    "    Returns:\n",
    "        A Faiss LSH index.\n",
    "    \"\"\"\n",
    "    index = faiss.IndexLSH(dim, nbits)\n",
    "    index.add(index_vectors)\n",
    "    return index"
   ]
  },
  {
   "cell_type": "code",
   "execution_count": 19,
   "id": "b4b0932dfa7d7a4c",
   "metadata": {
    "ExecuteTime": {
     "end_time": "2024-06-16T18:05:06.742138Z",
     "start_time": "2024-06-16T18:05:06.735715Z"
    }
   },
   "outputs": [],
   "source": [
    "def compute_recall_at_k(\n",
    "        nn_gt: np.ndarray,\n",
    "        ann: np.ndarray,\n",
    "        k: int,\n",
    "):\n",
    "    \"\"\"\n",
    "    This function computes the recall@k.\n",
    "    Args:\n",
    "        nn_gt: The ground truth nearest neighbors.\n",
    "        ann: The approximate nearest neighbors.\n",
    "        k: The number of nearest neighbors to consider.\n",
    "    Returns:\n",
    "        The recall@k.\n",
    "    \"\"\"\n",
    "    return round(sum([len(set(ann[i]) & set(nn_gt[i])) / k for i in range(len(ann))])/len(ann), 3)"
   ]
  },
  {
   "cell_type": "markdown",
   "id": "77d4be2e90ed842",
   "metadata": {},
   "source": [
    "# 1.1 - Running Time Comparison\n",
    "\n",
    "You are given three methods for vector search:\n",
    "<ol>\n",
    " <li> naive_exhaustive_search </li> \n",
    " <li> optimized_exhaustive_search </li> \n",
    " <li> faiss_flatL2 </li> \n",
    "</ol>\n",
    "\n",
    "each one implements vector search with different levels of optimization. Your task is to compare the running time of these three methods. \n",
    "You need to complete the code so that the generated plots should reflect the increasing difference in running time between the methods, as a function of the desired parameters.\n",
    "The plots should be clear and self-explanatory, including the labels, title, and legend.\n",
    "There is no need to experiment with long running times (few seconds are enough for each plot); just ensure that the trends are visible.\n",
    "You are allowed to add more cells between the TODOs, but do not flip the order of the subsections.\n",
    "When you finish. do not forget to attach the plots to report.pdf, placed under a clear title indicating the section number."
   ]
  },
  {
   "cell_type": "markdown",
   "id": "837db120f597a563",
   "metadata": {},
   "source": [
    "### Generate the following plots:\n",
    "##### 1.1.1. Running time of the three methods as a function of the number of vectors in the index (x-axis) with the following parameters fixed:\n",
    "* vector dimensionality: 100\n",
    "* number of vectors in the query set: 1000\n",
    "##### 1.1.2. Running time of the three methods as a function of the dimensionality of the vectors (x-axis) with the following parameters fixed:\n",
    "* number of vectors in the index: 100000\n",
    "* number of vectors in the query set: 1000"
   ]
  },
  {
   "cell_type": "code",
   "outputs": [
    {
     "name": "stdout",
     "output_type": "stream",
     "text": [
      "10\n",
      "50\n",
      "100\n",
      "250\n",
      "500\n"
     ]
    }
   ],
   "source": [
    "k = 5\n",
    "vectors = generate_vectors(1500, 100, 'uniform')\n",
    "query_vec = vectors[:1000]\n",
    "data_vectors = vectors[1000:]\n",
    "\n",
    "partial = [10, 50, 100, 250, 500]  # , 1000]\n",
    "\n",
    "naive_run = []\n",
    "optim_run = []\n",
    "faiss_run = []\n",
    "\n",
    "for i in partial:\n",
    "    print(i)\n",
    "    cur_index = data_vectors[:i]\n",
    "    flat_index = build_faiss_flatl2_index(data_vectors[:i], 100)\n",
    "    \n",
    "    start_time = time()\n",
    "    _ = naive_exhaustive_search(query_vec, cur_index, k)\n",
    "    end_time = time() - start_time\n",
    "    naive_run.append(end_time)\n",
    "    \n",
    "    start_time = time()\n",
    "    _ = optimized_exhaustive_search(query_vec, cur_index, k)\n",
    "    end_time = time() - start_time\n",
    "    optim_run.append(end_time)\n",
    "    \n",
    "    start_time = time()\n",
    "    _ = faiss_search(query_vec, flat_index, k)\n",
    "    end_time = time() - start_time\n",
    "    faiss_run.append(end_time)"
   ],
   "metadata": {
    "collapsed": false,
    "ExecuteTime": {
     "end_time": "2024-06-16T18:04:56.033468Z",
     "start_time": "2024-06-16T18:04:48.075208Z"
    }
   },
   "id": "f26efd8135aa94d6",
   "execution_count": 10
  },
  {
   "cell_type": "code",
   "outputs": [
    {
     "data": {
      "text/plain": "<Figure size 640x480 with 1 Axes>",
      "image/png": "[encoded data removed]"
     },
     "metadata": {},
     "output_type": "display_data"
    }
   ],
   "source": [
    "import matplotlib.pyplot as plt\n",
    "\n",
    "# Create a new figure\n",
    "plt.figure()\n",
    "\n",
    "# Plot the data\n",
    "plt.plot(partial, naive_run, label='Naive Run', color='red')\n",
    "plt.plot(partial, optim_run, label='Optimized Run', color='green')\n",
    "plt.plot(partial, faiss_run, label='Faiss Run', color='blue')\n",
    "\n",
    "# Add a legend\n",
    "plt.legend()\n",
    "\n",
    "# Add title and labels for the axes\n",
    "plt.title('Running Time Comparison')\n",
    "plt.xlabel('Number of Vectors in Index')\n",
    "plt.ylabel('Time (seconds)')\n",
    "\n",
    "# Display the plot\n",
    "plt.show()"
   ],
   "metadata": {
    "collapsed": false,
    "ExecuteTime": {
     "end_time": "2024-06-16T18:04:56.404237Z",
     "start_time": "2024-06-16T18:04:56.035808Z"
    }
   },
   "id": "2d010137a62e618",
   "execution_count": 11
  },
  {
   "cell_type": "code",
   "execution_count": null,
   "id": "637e435d635f5cb8",
   "metadata": {
    "jupyter": {
     "is_executing": true
    },
    "is_executing": true,
    "ExecuteTime": {
     "start_time": "2024-06-16T18:05:19.988554Z"
    }
   },
   "outputs": [
    {
     "name": "stdout",
     "output_type": "stream",
     "text": [
      "10\n"
     ]
    }
   ],
   "source": [
    "k = 5\n",
    "\n",
    "dims = [10, 50, 100, 250, 500]\n",
    "\n",
    "naive_run_dim = []\n",
    "optim_run_dim = []\n",
    "faiss_run_dim = []\n",
    "\n",
    "for dim in dims:\n",
    "    vectors = generate_vectors(101000, dim, 'uniform')\n",
    "    query_vec = vectors[:1000]\n",
    "    data_vectors = vectors[1000:]\n",
    "    flat_index = build_faiss_flatl2_index(data_vectors, dim)\n",
    "    \n",
    "    print(dim)\n",
    "    \n",
    "    start_time = time()\n",
    "    _ = naive_exhaustive_search(query_vec, data_vectors, k)\n",
    "    end_time = time() - start_time\n",
    "    naive_run_dim.append(end_time)\n",
    "    \n",
    "    start_time = time()\n",
    "    _ = optimized_exhaustive_search(query_vec, data_vectors, k)\n",
    "    end_time = time() - start_time\n",
    "    optim_run_dim.append(end_time)\n",
    "    \n",
    "    start_time = time()\n",
    "    _ = faiss_search(query_vec, flat_index, k)\n",
    "    end_time = time() - start_time\n",
    "    faiss_run_dim.append(end_time)"
   ]
  },
  {
   "cell_type": "code",
   "outputs": [],
   "source": [
    "import torch\n",
    "\n",
    "def naive_exhaustive_search_gpu(\n",
    "        query_vectors: np.ndarray,\n",
    "        index_vectors: np.ndarray,\n",
    "        k: int,\n",
    ") -> np.ndarray:\n",
    "    \"\"\"\n",
    "    This function computes the k-nearest neighbors of query_vectors in index_vectors using the naive exhaustive approach.\n",
    "    Args:\n",
    "        query_vectors: An array of shape (n_queries, dim) containing the query vectors.\n",
    "        index_vectors: An array of shape (n_index, dim) containing the index vectors.\n",
    "        k: The number of nearest neighbors to retrieve.\n",
    "    Returns:\n",
    "        An array of shape (n_queries, k) containing the indices of the k-nearest neighbors for each query vector.\n",
    "    \"\"\"\n",
    "    device = torch.device(\"cuda\" if torch.cuda.is_available() else \"cpu\")\n",
    "\n",
    "    query_vectors = torch.from_numpy(query_vectors).to(device)\n",
    "    index_vectors = torch.from_numpy(index_vectors).to(device)\n",
    "\n",
    "    all_distances = []\n",
    "    for query_vector in query_vectors:\n",
    "        query_distances = []\n",
    "        for index_vector in index_vectors:\n",
    "            query_distances.append(torch.dist(query_vector, index_vector).item())\n",
    "        all_distances.append(torch.argsort(torch.tensor(query_distances))[:k].cpu().numpy())\n",
    "    return np.array(all_distances)"
   ],
   "metadata": {
    "collapsed": false
   },
   "id": "ddf8f4d4cfc924d"
  },
  {
   "cell_type": "code",
   "outputs": [],
   "source": [
    "import matplotlib.pyplot as plt\n",
    "\n",
    "# Create a new figure\n",
    "plt.figure()\n",
    "\n",
    "# Plot the data\n",
    "plt.plot(dims, naive_run_dim, label='Naive Run', color='red')\n",
    "plt.plot(dims, optim_run_dim, label='Optimized Run', color='green')\n",
    "plt.plot(dims, faiss_run_dim, label='Faiss Run', color='blue')\n",
    "\n",
    "# Add a legend\n",
    "plt.legend()\n",
    "\n",
    "# Add title and labels for the axes\n",
    "plt.title('Running Time Comparison')\n",
    "plt.xlabel('Vectors Dimension')\n",
    "plt.ylabel('Time (seconds)')\n",
    "\n",
    "# Display the plot\n",
    "plt.show()"
   ],
   "metadata": {
    "collapsed": false
   },
   "id": "18ddd3c20cf7ec7e"
  },
  {
   "cell_type": "markdown",
   "id": "1536a5ecfa0c1815",
   "metadata": {},
   "source": []
  },
  {
   "cell_type": "markdown",
   "id": "48aeaf9650c05a39",
   "metadata": {},
   "source": [
    "# 1.2 -- Faiss LSH\n",
    "### Create the following plots:\n",
    "##### 1.2.1. Running time of Faiss LSH as a function of the number of vectors in the index (x-axis) with the following parameters fixed:\n",
    "* vector dimensionality: 100\n",
    "* number of vectors in the query set: 1000\n",
    "* nbits: 500\n",
    "\n",
    "##### 1.2.2. Running time of Faiss LSH as a function of nbits (x-axis) with the following parameters fixed:\n",
    "* vector dimensionality: 100\n",
    "* number of vectors in the query set: 1000\n",
    "* number of vectors in the index: 500000\n",
    "\n",
    "\n",
    "##### 1.2.3. recall@k of Faiss LSH as a function of nbits (x-axis) with the following parameters fixed:\n",
    "* vector dimensionality: 100\n",
    "* number of vectors in the query set: 1000\n",
    "* number of vectors in the index: 500000\n",
    "* k: 10\n",
    "\n",
    "\n",
    "You need to complete the code so that the generated plots should reflect the desired metrics as a function of the desired parameters.\n",
    "The plots should be clear and self-explanatory, including the labels, title, and legend.\n",
    "There is no need to experiment with long running times (few seconds are enough for each plot); just ensure that the trends are visible.\n",
    "You are allowed to add more cells between the TODOs, but do not flip the order of the subsections.\n",
    "When you finish. do not forget to attach the plots to report.pdf, placed under a clear title indicating the section number.\n"
   ]
  },
  {
   "cell_type": "code",
   "execution_count": 22,
   "id": "f0d44744e552bdb8",
   "metadata": {
    "ExecuteTime": {
     "end_time": "2024-05-26T11:13:44.380928700Z",
     "start_time": "2024-05-26T11:13:44.370184600Z"
    },
    "jupyter": {
     "is_executing": true
    }
   },
   "outputs": [],
   "source": [
    "#TODO: Write your code for 1.2.1 here\n"
   ]
  },
  {
   "cell_type": "code",
   "execution_count": 23,
   "id": "173aea32c34b06b",
   "metadata": {
    "ExecuteTime": {
     "end_time": "2024-05-26T11:13:44.734387600Z",
     "start_time": "2024-05-26T11:13:44.721666200Z"
    },
    "jupyter": {
     "is_executing": true
    }
   },
   "outputs": [],
   "source": [
    "#TODO: Write your code for 1.2.2 here\n"
   ]
  },
  {
   "cell_type": "code",
   "execution_count": 24,
   "id": "17fe53af90c3f8be",
   "metadata": {
    "ExecuteTime": {
     "end_time": "2024-05-26T11:13:45.324182200Z",
     "start_time": "2024-05-26T11:13:45.312608900Z"
    },
    "jupyter": {
     "is_executing": true
    }
   },
   "outputs": [],
   "source": [
    "#TODO: Write your code for 1.2.3 here\n"
   ]
  },
  {
   "cell_type": "code",
   "execution_count": null,
   "id": "283f01e38696d48c",
   "metadata": {
    "jupyter": {
     "is_executing": true
    }
   },
   "outputs": [],
   "source": []
  }
 ],
 "metadata": {
  "kernelspec": {
   "display_name": "Python 3 (ipykernel)",
   "language": "python",
   "name": "python3"
  },
  "language_info": {
   "codemirror_mode": {
    "name": "ipython",
    "version": 3
   },
   "file_extension": ".py",
   "mimetype": "text/x-python",
   "name": "python",
   "nbconvert_exporter": "python",
   "pygments_lexer": "ipython3",
   "version": "3.11.3"
  }
 },
 "nbformat": 4,
 "nbformat_minor": 5
}
