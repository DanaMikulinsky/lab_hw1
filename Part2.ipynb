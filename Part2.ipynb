{
 "cells": [
  {
   "cell_type": "code",
   "execution_count": 1,
   "id": "initial_id",
   "metadata": {
    "ExecuteTime": {
     "end_time": "2024-06-10T21:00:36.522780Z",
     "start_time": "2024-06-10T21:00:35.443137Z"
    }
   },
   "outputs": [],
   "source": [
    "import numpy as np\n",
    "from scipy import spatial \n",
    "import faiss\n",
    "from time import time\n",
    "import matplotlib.pyplot as plt\n",
    "from collections import defaultdict\n",
    "import itertools"
   ]
  },
  {
   "cell_type": "markdown",
   "id": "62f09c59a02a3b0d",
   "metadata": {},
   "source": [
    "## Helper Function"
   ]
  },
  {
   "cell_type": "code",
   "execution_count": 2,
   "id": "5a991f1eb012a476",
   "metadata": {
    "ExecuteTime": {
     "end_time": "2024-06-10T21:00:44.538572Z",
     "start_time": "2024-06-10T21:00:44.525608Z"
    }
   },
   "outputs": [],
   "source": [
    "def semi_optimized_exhaustive_search(\n",
    "        index_vectors: np.ndarray,\n",
    "        query_vectors: np.ndarray,\n",
    "        k: int,\n",
    "):\n",
    "    \"\"\"\n",
    "    This function performs an optimized exhaustive search.\n",
    "    Args:\n",
    "        index_vectors: An array of shape (n_index, dim) containing the index vectors.\n",
    "        query_vectors: An array of shape (n_queries, dim) containing the query vectors. \n",
    "        dim: The dimensionality of the vectors.\n",
    "    Returns:\n",
    "        An array of shape (n_queries, k) containing the indices of the k nearest neighbors for each query vector.\n",
    "    \"\"\"\n",
    "    ann_lists = []\n",
    "    for query_vec in query_vectors:\n",
    "        distances = np.linalg.norm(index_vectors - query_vec, axis=1)\n",
    "        ann_lists.append(list(np.argsort(distances)[:k]))\n",
    "    return np.array(ann_lists)"
   ]
  },
  {
   "cell_type": "code",
   "execution_count": 3,
   "id": "a8ef475c717fbe2e",
   "metadata": {
    "ExecuteTime": {
     "end_time": "2024-06-10T21:00:47.719310Z",
     "start_time": "2024-06-10T21:00:47.698362Z"
    }
   },
   "outputs": [],
   "source": [
    "def build_faiss_flatl2_index(\n",
    "        index_vectors: np.ndarray,\n",
    "        dim: int,\n",
    "):\n",
    "    \"\"\"\n",
    "    This function builds a Faiss flat L2 index.\n",
    "    Args:\n",
    "        index_vectors: An array of shape (n_index, dim) containing the index vectors.\n",
    "        dim: The dimensionality of the vectors. \n",
    "    Returns:\n",
    "        A Faiss flat L2 index.\n",
    "    \"\"\"\n",
    "    index = faiss.IndexFlatL2(dim)\n",
    "    index.add(index_vectors)\n",
    "    return index"
   ]
  },
  {
   "cell_type": "code",
   "execution_count": 4,
   "id": "1df7a2d698755a82",
   "metadata": {
    "ExecuteTime": {
     "end_time": "2024-06-10T21:00:48.174553Z",
     "start_time": "2024-06-10T21:00:48.157599Z"
    }
   },
   "outputs": [],
   "source": [
    "def faiss_search(\n",
    "        query_vectors: np.ndarray,\n",
    "        index: faiss.Index,\n",
    "        k: int,\n",
    "):\n",
    "    \"\"\"\n",
    "    This function uses a Faiss index to search for the k-nearest neighbors of query_vectors.\n",
    "    Args:\n",
    "        query_vectors: An array of shape (n_queries, dim) containing the query vectors. \n",
    "        index: A Faiss index.\n",
    "        k: The number of nearest neighbors to retrieve.\n",
    "    Returns:\n",
    "        An array of shape (, ) containing the indices of the k-nearest neighbors for each query vector.\n",
    "    \"\"\"\n",
    "    distances, indices = index.search(query_vectors, k)\n",
    "    return indices"
   ]
  },
  {
   "cell_type": "code",
   "execution_count": 5,
   "id": "af14bea64023a3d4",
   "metadata": {
    "ExecuteTime": {
     "end_time": "2024-06-10T21:00:49.337476Z",
     "start_time": "2024-06-10T21:00:49.325508Z"
    }
   },
   "outputs": [],
   "source": [
    "def build_faiss_lsh_index(\n",
    "        index_vectors: np.ndarray,\n",
    "        dim: int,\n",
    "        nbits: int,\n",
    "):\n",
    "    \"\"\"\n",
    "    This function builds a Faiss LSH index.\n",
    "    Args:\n",
    "        index_vectors: An array of shape (n_index, dim) containing the index vectors.\n",
    "        dim: The dimensionality of the vectors. \n",
    "        nbits: The number of bits to use in the hash.\n",
    "    Returns:\n",
    "        A Faiss LSH index.\n",
    "    \"\"\"\n",
    "    \n",
    "    index = faiss.IndexLSH(dim, nbits)\n",
    "    index.add(index_vectors)\n",
    "    return index"
   ]
  },
  {
   "cell_type": "code",
   "execution_count": 6,
   "id": "b4b0932dfa7d7a4c",
   "metadata": {
    "ExecuteTime": {
     "end_time": "2024-06-10T21:00:49.732824Z",
     "start_time": "2024-06-10T21:00:49.718871Z"
    }
   },
   "outputs": [],
   "source": [
    "def compute_recall_at_k(\n",
    "        nn_gt: np.ndarray,\n",
    "        ann: np.ndarray,\n",
    "        k: int,\n",
    "):\n",
    "    \"\"\"\n",
    "    This function computes the recall@k.\n",
    "    Args:\n",
    "        nn_gt: The ground truth nearest neighbors.\n",
    "        ann: The approximate nearest neighbors.\n",
    "        k: The number of nearest neighbors to consider.\n",
    "    Returns:\n",
    "        The recall@k.\n",
    "    \"\"\"\n",
    "    return round(sum([len(set(ann[i]) & set(nn_gt[i])) / k for i in range(len(ann))])/len(ann), 3)"
   ]
  },
  {
   "cell_type": "markdown",
   "id": "77d4be2e90ed842",
   "metadata": {},
   "source": [
    "# 2.1 -- LSH vs Naive Exhaustive Search (Regular Index Vectors)\n",
    "### You just have to run the following cells and add the following results to the report:\n",
    "* running time of the ground truth computation with semi_optimized_exhaustive_search (wall time)\n",
    "* running time of creating faiss_lsh_index (wall time)\n",
    "* running time of faiss_search over query_vectors with faiss_lsh_index (wall time)\n",
    "* recall@10 for faiss_lsh_ann"
   ]
  },
  {
   "cell_type": "code",
   "execution_count": 7,
   "id": "b4fdbd7671405821",
   "metadata": {
    "ExecuteTime": {
     "end_time": "2024-06-10T21:00:52.378174Z",
     "start_time": "2024-06-10T21:00:52.351252Z"
    }
   },
   "outputs": [],
   "source": [
    "query_vectors = np.load('data/query_vectors.npy').astype(np.float32)\n",
    "index_vectors = np.load('data/index_vectors.npy').astype(np.float32)\n",
    "k=10\n",
    "dim = index_vectors.shape[1]"
   ]
  },
  {
   "cell_type": "code",
   "execution_count": 8,
   "id": "65ff74d429524ffc",
   "metadata": {
    "ExecuteTime": {
     "end_time": "2024-06-10T21:18:41.035362Z",
     "start_time": "2024-06-10T21:18:41.017409Z"
    }
   },
   "outputs": [
    {
     "name": "stdout",
     "output_type": "stream",
     "text": [
      "CPU times: user 4.37 s, sys: 6.96 ms, total: 4.38 s\n",
      "Wall time: 4.37 s\n"
     ]
    }
   ],
   "source": [
    "%%time\n",
    "gt_nn = semi_optimized_exhaustive_search(index_vectors, query_vectors, k)"
   ]
  },
  {
   "cell_type": "code",
   "execution_count": 9,
   "id": "bd448cbdb96b1ba0",
   "metadata": {
    "ExecuteTime": {
     "end_time": "2024-06-10T21:18:36.008226Z",
     "start_time": "2024-06-10T21:18:35.998251Z"
    }
   },
   "outputs": [
    {
     "name": "stdout",
     "output_type": "stream",
     "text": [
      "CPU times: user 3.1 s, sys: 570 ms, total: 3.67 s\n",
      "Wall time: 534 ms\n"
     ]
    }
   ],
   "source": [
    "%%time\n",
    "faiss_lsh_index = build_faiss_lsh_index(index_vectors, dim, nbits=2000)"
   ]
  },
  {
   "cell_type": "code",
   "execution_count": 10,
   "id": "b0a321e6b7406267",
   "metadata": {
    "ExecuteTime": {
     "end_time": "2024-06-10T21:18:32.391344Z",
     "start_time": "2024-06-10T21:18:32.385337Z"
    }
   },
   "outputs": [
    {
     "name": "stdout",
     "output_type": "stream",
     "text": [
      "CPU times: user 5.79 s, sys: 109 ms, total: 5.89 s\n",
      "Wall time: 558 ms\n"
     ]
    }
   ],
   "source": [
    "%%time\n",
    "faiss_lsh_ann = faiss_search(query_vectors, faiss_lsh_index, k)"
   ]
  },
  {
   "cell_type": "code",
   "execution_count": 11,
   "id": "e5554595c4d77a27",
   "metadata": {
    "ExecuteTime": {
     "end_time": "2024-06-10T21:18:26.322703Z",
     "start_time": "2024-06-10T21:18:26.233820Z"
    }
   },
   "outputs": [
    {
     "name": "stdout",
     "output_type": "stream",
     "text": [
      "recall@10 for faiss_lsh_index: 0.138\n"
     ]
    }
   ],
   "source": [
    "print(f\"recall@10 for faiss_lsh_index: {compute_recall_at_k(gt_nn, faiss_lsh_ann, k)}\")"
   ]
  },
  {
   "cell_type": "markdown",
   "id": "ad5ca983b3a893e5",
   "metadata": {},
   "source": [
    "# 2.2 -- Custom Indexing Algorithm\n",
    "Build an indexing algorithm that satisfies the following requirements:\n",
    "* The indexing algorithm should be able to handle vectors of different dimensions\n",
    "* The running time of the indexing should be less than half of the running time of semi_optimized_exhaustive_search), reported in Section 2.1.\n",
    "* The running time of searching over the index should be less than a third (1/3) of the time of the semi_optimized_exhaustive_search function, reported in Section 2.1.\n",
    "* The performance (in terms of recall@10) of the indexing algorithm should be at least 0.8.\n",
    "\n",
    "The last three bullets should also appear in the report.\n",
    "You are allowed to add as many helper functions as you need. You cannot use faiss of scipy libraries for this task. Numpy is allowed. \n",
    "\n",
    "You can also test your algorithm with the additional two query-index sets by replacing the calls made few cells ago to:\n",
    "\n",
    "    query_vectors = np.load('data/query_vectors2.npy')\n",
    "    index_vectors = np.load('data/index_vectors2.npy')\n",
    "or:\n",
    "\n",
    "    query_vectors = np.load('data/query_vectors3.npy')\n",
    "    index_vectors = np.load('data/index_vectors3.npy')\n",
    "    \n",
    "the aforementioned requirements should also be satisfied over these two query-index sets. No need to insert the results over these two to the report."
   ]
  },
  {
   "cell_type": "code",
   "execution_count": 21,
   "id": "7fd202d4",
   "metadata": {},
   "outputs": [],
   "source": [
    "def generate_random_hash_functions(dim):\n",
    "    \"\"\"\n",
    "    Generates random hash functions for LSH.\n",
    "    Args:\n",
    "        dim: Dimensionality of the input vectors.\n",
    "    Returns:\n",
    "        List of random projection matrices.\n",
    "    \"\"\"\n",
    "    if dim < 150:\n",
    "        num_hashes = 4\n",
    "        hash_size = int(dim**0.68)\n",
    "    else:\n",
    "        num_hashes = 12\n",
    "        hash_size = int(dim**0.6)\n",
    "\n",
    "    return [np.random.randn(hash_size, dim) for _ in range(num_hashes)]\n",
    "\n",
    "\n",
    "def hash_vector(vector, hash_function):\n",
    "    \"\"\"\n",
    "    Hashes a vector using a given hash function.\n",
    "    Args:\n",
    "        vector: Input vector.\n",
    "        hash_function: Random projection matrix.\n",
    "    Returns:\n",
    "        A tuple representing the hash key.\n",
    "    \"\"\"\n",
    "    projection = np.dot(hash_function, vector)\n",
    "    return tuple((projection > 0).astype(int))\n"
   ]
  },
  {
   "cell_type": "code",
   "execution_count": 44,
   "id": "270a9fe3",
   "metadata": {},
   "outputs": [],
   "source": [
    "def custom_indexing_algorithm(index_vectors, hash_functions):\n",
    "    \"\"\"\n",
    "    Indexes vectors into hash tables using LSH.\n",
    "    Args:\n",
    "        index_vectors: Array of index vectors.\n",
    "        hash_functions: List of random projection matrices.\n",
    "    Returns:\n",
    "        List of hash tables, each storing lists of vector indices.\n",
    "    \"\"\"\n",
    "    hash_tables = [{} for _ in hash_functions]\n",
    "    for i, vector in enumerate(index_vectors):\n",
    "        for j, hash_function in enumerate(hash_functions):\n",
    "            hash_key = hash_vector(vector, hash_function)\n",
    "            if hash_key not in hash_tables[j]:\n",
    "                hash_tables[j][hash_key] = []\n",
    "            hash_tables[j][hash_key].append(i)\n",
    "    return hash_tables\n",
    "\n",
    "def custom_index_search(query_vectors, index_vectors, hash_functions, hash_tables, k):\n",
    "    \"\"\"\n",
    "    Searches for the k-nearest neighbors using LSH.\n",
    "    Args:\n",
    "        query_vectors: Array of query vectors.\n",
    "        index_vectors: Array of index vectors.\n",
    "        hash_functions: List of random projection matrices.\n",
    "        hash_tables: List of hash tables.\n",
    "        k: Number of nearest neighbors to retrieve.\n",
    "        max_candidates: Number of candidate vectors considered from each hash table.\n",
    "    Returns:\n",
    "        Array of shape (n_queries, k) containing the indices of the k-nearest neighbors for each query vector.\n",
    "    \"\"\"\n",
    "    max_candidates = 800 if index_vectors.shape[1] < 150 else 1400  # Limit the number of candidates\n",
    "    print(max_candidates)\n",
    "    result_indices = []\n",
    "    for query_vec in query_vectors:\n",
    "        candidate_indices = set()\n",
    "        for hash_function, hash_table in zip(hash_functions, hash_tables):\n",
    "            hash_key = hash_vector(query_vec, hash_function)\n",
    "            if hash_key in hash_table:\n",
    "                candidates = hash_table[hash_key]\n",
    "                candidate_indices.update(candidates[:max_candidates]) \n",
    "        if not candidate_indices:\n",
    "            result_indices.append(np.array([]))\n",
    "            continue\n",
    "        candidate_indices = list(candidate_indices)\n",
    "        candidate_vectors = index_vectors[candidate_indices]\n",
    "        distances = np.linalg.norm(candidate_vectors - query_vec, axis=1)\n",
    "        result_indices.append(np.array(candidate_indices)[np.argsort(distances)[:k]])\n",
    "    return np.array(result_indices)"
   ]
  },
  {
   "cell_type": "code",
   "execution_count": 45,
   "id": "a50f4b92f2ec12fd",
   "metadata": {
    "ExecuteTime": {
     "end_time": "2024-06-10T21:00:22.662764Z",
     "start_time": "2024-06-10T21:00:22.650804Z"
    }
   },
   "outputs": [],
   "source": [
    "query_vectors = np.load('data/query_vectors.npy').astype(np.float32)\n",
    "index_vectors = np.load('data/index_vectors.npy').astype(np.float32)\n",
    "dim = index_vectors.shape[1]\n",
    "\n",
    "hash_functions = generate_random_hash_functions(dim)"
   ]
  },
  {
   "cell_type": "code",
   "execution_count": 50,
   "id": "b8278fea",
   "metadata": {},
   "outputs": [
    {
     "ename": "TypeError",
     "evalue": "generate_random_hash_functions() takes 1 positional argument but 3 were given",
     "output_type": "error",
     "traceback": [
      "\u001b[0;31m---------------------------------------------------------------------------\u001b[0m",
      "\u001b[0;31mTypeError\u001b[0m                                 Traceback (most recent call last)",
      "Cell \u001b[0;32mIn[50], line 18\u001b[0m\n\u001b[1;32m     15\u001b[0m hash_size \u001b[38;5;241m=\u001b[39m \u001b[38;5;28mint\u001b[39m(dim \u001b[38;5;241m*\u001b[39m\u001b[38;5;241m*\u001b[39m hash_size_factor)\n\u001b[1;32m     17\u001b[0m \u001b[38;5;66;03m# Generate hash functions\u001b[39;00m\n\u001b[0;32m---> 18\u001b[0m hash_functions \u001b[38;5;241m=\u001b[39m \u001b[43mgenerate_random_hash_functions\u001b[49m\u001b[43m(\u001b[49m\u001b[43mnum_hashes\u001b[49m\u001b[43m,\u001b[49m\u001b[43m \u001b[49m\u001b[43mhash_size\u001b[49m\u001b[43m,\u001b[49m\u001b[43m \u001b[49m\u001b[43mdim\u001b[49m\u001b[43m)\u001b[49m\n\u001b[1;32m     20\u001b[0m \u001b[38;5;66;03m# Index vectors\u001b[39;00m\n\u001b[1;32m     21\u001b[0m start_time \u001b[38;5;241m=\u001b[39m time()\n",
      "\u001b[0;31mTypeError\u001b[0m: generate_random_hash_functions() takes 1 positional argument but 3 were given"
     ]
    }
   ],
   "source": [
    "query_vectors = np.load('data/query_vectors.npy').astype(np.float32)\n",
    "index_vectors = np.load('data/index_vectors.npy').astype(np.float32)\n",
    "dim = index_vectors.shape[1]\n",
    "\n",
    "\n",
    "# Updated parameter ranges for faster search times\n",
    "num_hashes_list = [4, 5, 6, 7, 8]  # Increasing number of hash tables\n",
    "hash_size_factors = [0.5, 0.55, 0.6, 0.65, 0.7, 0.75]  # Trying smaller hash sizes\n",
    "max_candidates_list = [500, 600, 700, 800, 900]  # Reducing max candidates\n",
    "\n",
    "# Generate combinations of new parameters\n",
    "param_combinations = list(itertools.product(num_hashes_list, hash_size_factors, max_candidates_list))\n",
    "\n",
    "for num_hashes, hash_size_factor, max_candidates in param_combinations:\n",
    "    hash_size = int(dim ** hash_size_factor)\n",
    "    \n",
    "    # Generate hash functions\n",
    "    hash_functions = generate_random_hash_functions(num_hashes, hash_size, dim)\n",
    "    \n",
    "    # Index vectors\n",
    "    start_time = time()\n",
    "    hash_tables = custom_indexing_algorithm(index_vectors, hash_functions)\n",
    "    indexing_time = time() - start_time\n",
    "    \n",
    "    # Search for nearest neighbors\n",
    "    start_time = time()\n",
    "    result_indices = custom_index_search(query_vectors, index_vectors, hash_functions, hash_tables, k, max_candidates)\n",
    "    search_time = time() - start_time\n",
    "    \n",
    "    # Compute recall\n",
    "    recall = compute_recall_at_k(gt_nn, result_indices, k)\n",
    "    \n",
    "    print(indexing_time < 4.5 and search_time < 2.5 and recall > 0.8)\n",
    "    print(f\"num_hashes: {num_hashes}, hash_size_factor: {hash_size_factor}, max_candidates: {max_candidates}\")\n",
    "    print(f\"Recall: {recall}, Indexing Time: {indexing_time:.2f}s, Search Time: {search_time:.2f}s\")\n",
    "    print('----------------------------------------------------------------------------------------')\n",
    "\n",
    "    "
   ]
  },
  {
   "cell_type": "code",
   "execution_count": 46,
   "id": "48de638b",
   "metadata": {},
   "outputs": [
    {
     "name": "stdout",
     "output_type": "stream",
     "text": [
      "CPU times: user 4.27 s, sys: 3.85 ms, total: 4.27 s\n",
      "Wall time: 4.27 s\n"
     ]
    }
   ],
   "source": [
    "%%time\n",
    "gt_nn = semi_optimized_exhaustive_search(index_vectors, query_vectors, k)"
   ]
  },
  {
   "cell_type": "code",
   "execution_count": 47,
   "id": "ef371ecd242846db",
   "metadata": {},
   "outputs": [
    {
     "name": "stdout",
     "output_type": "stream",
     "text": [
      "CPU times: user 822 ms, sys: 4.04 ms, total: 826 ms\n",
      "Wall time: 825 ms\n"
     ]
    }
   ],
   "source": [
    "%%time\n",
    "custom_index = custom_indexing_algorithm(index_vectors, hash_functions)"
   ]
  },
  {
   "cell_type": "code",
   "execution_count": 48,
   "id": "1c40c61275a3d001",
   "metadata": {},
   "outputs": [
    {
     "name": "stdout",
     "output_type": "stream",
     "text": [
      "800\n",
      "CPU times: user 666 ms, sys: 56 µs, total: 667 ms\n",
      "Wall time: 666 ms\n"
     ]
    }
   ],
   "source": [
    "%%time\n",
    "custom_index_ann = custom_index_search(query_vectors, index_vectors, hash_functions, custom_index, k)"
   ]
  },
  {
   "cell_type": "code",
   "execution_count": 49,
   "id": "3ddba190c55cd0af",
   "metadata": {
    "ExecuteTime": {
     "end_time": "2024-05-27T13:30:57.922904800Z",
     "start_time": "2024-05-27T13:30:57.874785600Z"
    }
   },
   "outputs": [
    {
     "name": "stdout",
     "output_type": "stream",
     "text": [
      "recall@10 for custom_index_search: 0.626\n"
     ]
    }
   ],
   "source": [
    "print(f\"recall@10 for custom_index_search: {compute_recall_at_k(gt_nn, custom_index_ann, k)}\")"
   ]
  },
  {
   "cell_type": "code",
   "execution_count": 32,
   "id": "3e1a08b2",
   "metadata": {},
   "outputs": [],
   "source": [
    "query_vectors = np.load('data/query_vectors2.npy').astype(np.float32)\n",
    "index_vectors = np.load('data/index_vectors2.npy').astype(np.float32)\n",
    "dim = index_vectors.shape[1]\n",
    "\n",
    "hash_functions = generate_random_hash_functions(dim)"
   ]
  },
  {
   "cell_type": "code",
   "execution_count": 33,
   "id": "eff0091f",
   "metadata": {},
   "outputs": [
    {
     "name": "stdout",
     "output_type": "stream",
     "text": [
      "CPU times: user 9.75 s, sys: 4.13 ms, total: 9.76 s\n",
      "Wall time: 9.76 s\n"
     ]
    }
   ],
   "source": [
    "%%time\n",
    "gt_nn = semi_optimized_exhaustive_search(index_vectors, query_vectors, k)"
   ]
  },
  {
   "cell_type": "code",
   "execution_count": 34,
   "id": "28a0be8f",
   "metadata": {},
   "outputs": [
    {
     "name": "stdout",
     "output_type": "stream",
     "text": [
      "CPU times: user 2.98 s, sys: 15.8 ms, total: 2.99 s\n",
      "Wall time: 3 s\n"
     ]
    }
   ],
   "source": [
    "%%time\n",
    "custom_index = custom_indexing_algorithm(index_vectors, hash_functions)"
   ]
  },
  {
   "cell_type": "code",
   "execution_count": 35,
   "id": "9649c386",
   "metadata": {},
   "outputs": [
    {
     "name": "stdout",
     "output_type": "stream",
     "text": [
      "CPU times: user 2.16 s, sys: 0 ns, total: 2.16 s\n",
      "Wall time: 2.16 s\n"
     ]
    }
   ],
   "source": [
    "%%time\n",
    "custom_index_ann = custom_index_search(query_vectors, index_vectors, hash_functions, custom_index, k)"
   ]
  },
  {
   "cell_type": "code",
   "execution_count": 36,
   "id": "9a694ea2",
   "metadata": {},
   "outputs": [
    {
     "name": "stdout",
     "output_type": "stream",
     "text": [
      "recall@10 for custom_index_search: 0.927\n"
     ]
    }
   ],
   "source": [
    "print(f\"recall@10 for custom_index_search: {compute_recall_at_k(gt_nn, custom_index_ann, k)}\")"
   ]
  },
  {
   "cell_type": "code",
   "execution_count": 38,
   "id": "b0046656",
   "metadata": {},
   "outputs": [],
   "source": [
    "query_vectors = np.load('data/query_vectors3.npy').astype(np.float32)\n",
    "index_vectors = np.load('data/index_vectors3.npy').astype(np.float32)\n",
    "dim = index_vectors.shape[1]\n",
    "hash_functions = generate_random_hash_functions(dim)"
   ]
  },
  {
   "cell_type": "code",
   "execution_count": 39,
   "id": "ef20cb80",
   "metadata": {},
   "outputs": [
    {
     "name": "stdout",
     "output_type": "stream",
     "text": [
      "CPU times: user 4.37 s, sys: 4.23 ms, total: 4.37 s\n",
      "Wall time: 4.37 s\n"
     ]
    }
   ],
   "source": [
    "%%time\n",
    "gt_nn = semi_optimized_exhaustive_search(index_vectors, query_vectors, k)"
   ]
  },
  {
   "cell_type": "code",
   "execution_count": 40,
   "id": "244856c0",
   "metadata": {},
   "outputs": [
    {
     "name": "stdout",
     "output_type": "stream",
     "text": [
      "CPU times: user 876 ms, sys: 3.86 ms, total: 880 ms\n",
      "Wall time: 878 ms\n"
     ]
    }
   ],
   "source": [
    "%%time\n",
    "custom_index = custom_indexing_algorithm(index_vectors, hash_functions)"
   ]
  },
  {
   "cell_type": "code",
   "execution_count": 41,
   "id": "7d6d96de",
   "metadata": {},
   "outputs": [
    {
     "name": "stdout",
     "output_type": "stream",
     "text": [
      "CPU times: user 726 ms, sys: 51 µs, total: 726 ms\n",
      "Wall time: 725 ms\n"
     ]
    }
   ],
   "source": [
    "%%time\n",
    "custom_index_ann = custom_index_search(query_vectors, index_vectors, hash_functions, custom_index, k,)"
   ]
  },
  {
   "cell_type": "code",
   "execution_count": 42,
   "id": "4821e31d",
   "metadata": {},
   "outputs": [
    {
     "name": "stdout",
     "output_type": "stream",
     "text": [
      "recall@10 for custom_index_search: 0.752\n"
     ]
    }
   ],
   "source": [
    "print(f\"recall@10 for custom_index_search: {compute_recall_at_k(gt_nn, custom_index_ann, k)}\")"
   ]
  },
  {
   "cell_type": "code",
   "execution_count": null,
   "id": "a7a761cd",
   "metadata": {},
   "outputs": [],
   "source": []
  }
 ],
 "metadata": {
  "kernelspec": {
   "display_name": "Python 3 (ipykernel)",
   "language": "python",
   "name": "python3"
  },
  "language_info": {
   "codemirror_mode": {
    "name": "ipython",
    "version": 3
   },
   "file_extension": ".py",
   "mimetype": "text/x-python",
   "name": "python",
   "nbconvert_exporter": "python",
   "pygments_lexer": "ipython3",
   "version": "3.9.18"
  }
 },
 "nbformat": 4,
 "nbformat_minor": 5
}
