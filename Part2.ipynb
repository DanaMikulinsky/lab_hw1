{
 "cells": [
  {
   "cell_type": "code",
   "execution_count": 19,
   "id": "initial_id",
   "metadata": {
    "ExecuteTime": {
     "end_time": "2024-06-10T21:00:36.522780Z",
     "start_time": "2024-06-10T21:00:35.443137Z"
    }
   },
   "outputs": [],
   "source": [
    "import numpy as np\n",
    "from scipy import spatial \n",
    "import faiss\n",
    "from time import time\n",
    "import matplotlib.pyplot as plt\n",
    "from collections import defaultdict"
   ]
  },
  {
   "cell_type": "markdown",
   "id": "62f09c59a02a3b0d",
   "metadata": {},
   "source": [
    "## Helper Function"
   ]
  },
  {
   "cell_type": "code",
   "execution_count": 20,
   "id": "5a991f1eb012a476",
   "metadata": {
    "ExecuteTime": {
     "end_time": "2024-06-10T21:00:44.538572Z",
     "start_time": "2024-06-10T21:00:44.525608Z"
    }
   },
   "outputs": [],
   "source": [
    "def semi_optimized_exhaustive_search(\n",
    "        index_vectors: np.ndarray,\n",
    "        query_vectors: np.ndarray,\n",
    "        k: int,\n",
    "):\n",
    "    \"\"\"\n",
    "    This function performs an optimized exhaustive search.\n",
    "    Args:\n",
    "        index_vectors: An array of shape (n_index, dim) containing the index vectors.\n",
    "        query_vectors: An array of shape (n_queries, dim) containing the query vectors. \n",
    "        dim: The dimensionality of the vectors.\n",
    "    Returns:\n",
    "        An array of shape (n_queries, k) containing the indices of the k nearest neighbors for each query vector.\n",
    "    \"\"\"\n",
    "    ann_lists = []\n",
    "    for query_vec in query_vectors:\n",
    "        distances = np.linalg.norm(index_vectors - query_vec, axis=1)\n",
    "        ann_lists.append(list(np.argsort(distances)[:k]))\n",
    "    return np.array(ann_lists)"
   ]
  },
  {
   "cell_type": "code",
   "execution_count": 21,
   "id": "a8ef475c717fbe2e",
   "metadata": {
    "ExecuteTime": {
     "end_time": "2024-06-10T21:00:47.719310Z",
     "start_time": "2024-06-10T21:00:47.698362Z"
    }
   },
   "outputs": [],
   "source": [
    "def build_faiss_flatl2_index(\n",
    "        index_vectors: np.ndarray,\n",
    "        dim: int,\n",
    "):\n",
    "    \"\"\"\n",
    "    This function builds a Faiss flat L2 index.\n",
    "    Args:\n",
    "        index_vectors: An array of shape (n_index, dim) containing the index vectors.\n",
    "        dim: The dimensionality of the vectors. \n",
    "    Returns:\n",
    "        A Faiss flat L2 index.\n",
    "    \"\"\"\n",
    "    index = faiss.IndexFlatL2(dim)\n",
    "    index.add(index_vectors)\n",
    "    return index"
   ]
  },
  {
   "cell_type": "code",
   "execution_count": 22,
   "id": "1df7a2d698755a82",
   "metadata": {
    "ExecuteTime": {
     "end_time": "2024-06-10T21:00:48.174553Z",
     "start_time": "2024-06-10T21:00:48.157599Z"
    }
   },
   "outputs": [],
   "source": [
    "def faiss_search(\n",
    "        query_vectors: np.ndarray,\n",
    "        index: faiss.Index,\n",
    "        k: int,\n",
    "):\n",
    "    \"\"\"\n",
    "    This function uses a Faiss index to search for the k-nearest neighbors of query_vectors.\n",
    "    Args:\n",
    "        query_vectors: An array of shape (n_queries, dim) containing the query vectors. \n",
    "        index: A Faiss index.\n",
    "        k: The number of nearest neighbors to retrieve.\n",
    "    Returns:\n",
    "        An array of shape (, ) containing the indices of the k-nearest neighbors for each query vector.\n",
    "    \"\"\"\n",
    "    distances, indices = index.search(query_vectors, k)\n",
    "    return indices"
   ]
  },
  {
   "cell_type": "code",
   "execution_count": 23,
   "id": "af14bea64023a3d4",
   "metadata": {
    "ExecuteTime": {
     "end_time": "2024-06-10T21:00:49.337476Z",
     "start_time": "2024-06-10T21:00:49.325508Z"
    }
   },
   "outputs": [],
   "source": [
    "def build_faiss_lsh_index(\n",
    "        index_vectors: np.ndarray,\n",
    "        dim: int,\n",
    "        nbits: int,\n",
    "):\n",
    "    \"\"\"\n",
    "    This function builds a Faiss LSH index.\n",
    "    Args:\n",
    "        index_vectors: An array of shape (n_index, dim) containing the index vectors.\n",
    "        dim: The dimensionality of the vectors. \n",
    "        nbits: The number of bits to use in the hash.\n",
    "    Returns:\n",
    "        A Faiss LSH index.\n",
    "    \"\"\"\n",
    "    \n",
    "    index = faiss.IndexLSH(dim, nbits)\n",
    "    index.add(index_vectors)\n",
    "    return index"
   ]
  },
  {
   "cell_type": "code",
   "execution_count": 24,
   "id": "b4b0932dfa7d7a4c",
   "metadata": {
    "ExecuteTime": {
     "end_time": "2024-06-10T21:00:49.732824Z",
     "start_time": "2024-06-10T21:00:49.718871Z"
    }
   },
   "outputs": [],
   "source": [
    "def compute_recall_at_k(\n",
    "        nn_gt: np.ndarray,\n",
    "        ann: np.ndarray,\n",
    "        k: int,\n",
    "):\n",
    "    \"\"\"\n",
    "    This function computes the recall@k.\n",
    "    Args:\n",
    "        nn_gt: The ground truth nearest neighbors.\n",
    "        ann: The approximate nearest neighbors.\n",
    "        k: The number of nearest neighbors to consider.\n",
    "    Returns:\n",
    "        The recall@k.\n",
    "    \"\"\"\n",
    "    return round(sum([len(set(ann[i]) & set(nn_gt[i])) / k for i in range(len(ann))])/len(ann), 3)"
   ]
  },
  {
   "cell_type": "markdown",
   "id": "77d4be2e90ed842",
   "metadata": {},
   "source": [
    "# 2.1 -- LSH vs Naive Exhaustive Search (Regular Index Vectors)\n",
    "### You just have to run the following cells and add the following results to the report:\n",
    "* running time of the ground truth computation with semi_optimized_exhaustive_search (wall time)\n",
    "* running time of creating faiss_lsh_index (wall time)\n",
    "* running time of faiss_search over query_vectors with faiss_lsh_index (wall time)\n",
    "* recall@10 for faiss_lsh_ann"
   ]
  },
  {
   "cell_type": "code",
   "execution_count": 25,
   "id": "b4fdbd7671405821",
   "metadata": {
    "ExecuteTime": {
     "end_time": "2024-06-10T21:00:52.378174Z",
     "start_time": "2024-06-10T21:00:52.351252Z"
    }
   },
   "outputs": [],
   "source": [
    "query_vectors = np.load('data/query_vectors.npy').astype(np.float32)\n",
    "index_vectors = np.load('data/index_vectors.npy').astype(np.float32)\n",
    "k=10\n",
    "dim = index_vectors.shape[1]"
   ]
  },
  {
   "cell_type": "code",
   "execution_count": 26,
   "id": "65ff74d429524ffc",
   "metadata": {
    "ExecuteTime": {
     "end_time": "2024-06-10T21:18:41.035362Z",
     "start_time": "2024-06-10T21:18:41.017409Z"
    }
   },
   "outputs": [
    {
     "name": "stdout",
     "output_type": "stream",
     "text": [
      "CPU times: user 4.55 s, sys: 15.7 ms, total: 4.57 s\n",
      "Wall time: 4.56 s\n"
     ]
    }
   ],
   "source": [
    "%%time\n",
    "gt_nn = semi_optimized_exhaustive_search(index_vectors, query_vectors, k)"
   ]
  },
  {
   "cell_type": "code",
   "execution_count": 27,
   "id": "bd448cbdb96b1ba0",
   "metadata": {
    "ExecuteTime": {
     "end_time": "2024-06-10T21:18:36.008226Z",
     "start_time": "2024-06-10T21:18:35.998251Z"
    }
   },
   "outputs": [
    {
     "name": "stdout",
     "output_type": "stream",
     "text": [
      "CPU times: user 2.74 s, sys: 364 ms, total: 3.1 s\n",
      "Wall time: 382 ms\n"
     ]
    }
   ],
   "source": [
    "%%time\n",
    "faiss_lsh_index = build_faiss_lsh_index(index_vectors, dim, nbits=2000)"
   ]
  },
  {
   "cell_type": "code",
   "execution_count": 28,
   "id": "b0a321e6b7406267",
   "metadata": {
    "ExecuteTime": {
     "end_time": "2024-06-10T21:18:32.391344Z",
     "start_time": "2024-06-10T21:18:32.385337Z"
    }
   },
   "outputs": [
    {
     "name": "stdout",
     "output_type": "stream",
     "text": [
      "CPU times: user 5.59 s, sys: 72.9 ms, total: 5.66 s\n",
      "Wall time: 512 ms\n"
     ]
    }
   ],
   "source": [
    "%%time\n",
    "faiss_lsh_ann = faiss_search(query_vectors, faiss_lsh_index, k)"
   ]
  },
  {
   "cell_type": "code",
   "execution_count": 29,
   "id": "e5554595c4d77a27",
   "metadata": {
    "ExecuteTime": {
     "end_time": "2024-06-10T21:18:26.322703Z",
     "start_time": "2024-06-10T21:18:26.233820Z"
    }
   },
   "outputs": [
    {
     "name": "stdout",
     "output_type": "stream",
     "text": [
      "recall@10 for faiss_lsh_index: 0.138\n"
     ]
    }
   ],
   "source": [
    "print(f\"recall@10 for faiss_lsh_index: {compute_recall_at_k(gt_nn, faiss_lsh_ann, k)}\")"
   ]
  },
  {
   "cell_type": "markdown",
   "id": "ad5ca983b3a893e5",
   "metadata": {},
   "source": [
    "# 2.2 -- Custom Indexing Algorithm\n",
    "Build an indexing algorithm that satisfies the following requirements:\n",
    "* The indexing algorithm should be able to handle vectors of different dimensions\n",
    "* The running time of the indexing should be less than half of the running time of semi_optimized_exhaustive_search), reported in Section 2.1.\n",
    "* The running time of searching over the index should be less than a third (1/3) of the time of the semi_optimized_exhaustive_search function, reported in Section 2.1.\n",
    "* The performance (in terms of recall@10) of the indexing algorithm should be at least 0.8.\n",
    "\n",
    "The last three bullets should also appear in the report.\n",
    "You are allowed to add as many helper functions as you need. You cannot use faiss of scipy libraries for this task. Numpy is allowed. \n",
    "\n",
    "You can also test your algorithm with the additional two query-index sets by replacing the calls made few cells ago to:\n",
    "\n",
    "    query_vectors = np.load('data/query_vectors2.npy')\n",
    "    index_vectors = np.load('data/index_vectors2.npy')\n",
    "or:\n",
    "\n",
    "    query_vectors = np.load('data/query_vectors3.npy')\n",
    "    index_vectors = np.load('data/index_vectors3.npy')\n",
    "    \n",
    "the aforementioned requirements should also be satisfied over these two query-index sets. No need to insert the results over these two to the report."
   ]
  },
  {
   "cell_type": "code",
   "execution_count": 30,
   "id": "7fd202d4",
   "metadata": {},
   "outputs": [],
   "source": [
    "def generate_random_hash_functions(num_hashes, hash_size, dim):\n",
    "    \"\"\"\n",
    "    Generates random hash functions for LSH.\n",
    "    Args:\n",
    "        num_hashes: Number of hash tables.\n",
    "        hash_size: Size of each hash function (number of bits).\n",
    "        dim: Dimensionality of the input vectors.\n",
    "    Returns:\n",
    "        List of random projection matrices.\n",
    "    \"\"\"\n",
    "    return [np.random.randn(hash_size, dim) for _ in range(num_hashes)]\n",
    "\n",
    "\n",
    "def hash_vector(vector, hash_function):\n",
    "    \"\"\"\n",
    "    Hashes a vector using a given hash function.\n",
    "    Args:\n",
    "        vector: Input vector.\n",
    "        hash_function: Random projection matrix.\n",
    "    Returns:\n",
    "        A tuple representing the hash key.\n",
    "    \"\"\"\n",
    "    projection = np.dot(hash_function, vector)\n",
    "    return tuple((projection > 0).astype(int))\n"
   ]
  },
  {
   "cell_type": "code",
   "execution_count": 31,
   "id": "270a9fe3",
   "metadata": {},
   "outputs": [],
   "source": [
    "def custom_indexing_algorithm(index_vectors, hash_functions):\n",
    "    \"\"\"\n",
    "    Indexes vectors into hash tables using LSH.\n",
    "    Args:\n",
    "        index_vectors: Array of index vectors.\n",
    "        hash_functions: List of random projection matrices.\n",
    "    Returns:\n",
    "        List of hash tables, each storing lists of vector indices.\n",
    "    \"\"\"\n",
    "    hash_tables = [{} for _ in hash_functions]\n",
    "    for i, vector in enumerate(index_vectors):\n",
    "        for j, hash_function in enumerate(hash_functions):\n",
    "            hash_key = hash_vector(vector, hash_function)\n",
    "            if hash_key not in hash_tables[j]:\n",
    "                hash_tables[j][hash_key] = []\n",
    "            hash_tables[j][hash_key].append(i)\n",
    "    return hash_tables\n",
    "\n",
    "def custom_index_search(query_vectors, index_vectors, hash_functions, hash_tables, k, max_candidates=1000):\n",
    "# def custom_index_search(query_vectors, index_vectors, hash_functions, hash_tables, k):\n",
    "    \"\"\"\n",
    "    Searches for the k-nearest neighbors using LSH.\n",
    "    Args:\n",
    "        query_vectors: Array of query vectors.\n",
    "        index_vectors: Array of index vectors.\n",
    "        hash_functions: List of random projection matrices.\n",
    "        hash_tables: List of hash tables.\n",
    "        k: Number of nearest neighbors to retrieve.\n",
    "        max_candidates: Number of candidate vectors considered from each hash table.\n",
    "    Returns:\n",
    "        Array of shape (n_queries, k) containing the indices of the k-nearest neighbors for each query vector.\n",
    "    \"\"\"\n",
    "    result_indices = []\n",
    "    for query_vec in query_vectors:\n",
    "        candidate_indices = set()\n",
    "        for hash_function, hash_table in zip(hash_functions, hash_tables):\n",
    "            hash_key = hash_vector(query_vec, hash_function)\n",
    "            if hash_key in hash_table:\n",
    "                candidates = hash_table[hash_key]\n",
    "                candidate_indices.update(candidates[:max_candidates])  # Limit the number of candidates\n",
    "        if not candidate_indices:\n",
    "            result_indices.append(np.array([]))\n",
    "            continue\n",
    "        candidate_indices = list(candidate_indices)\n",
    "        candidate_vectors = index_vectors[candidate_indices]\n",
    "        distances = np.linalg.norm(candidate_vectors - query_vec, axis=1)\n",
    "        result_indices.append(np.array(candidate_indices)[np.argsort(distances)[:k]])\n",
    "    return np.array(result_indices)"
   ]
  },
  {
   "cell_type": "code",
   "execution_count": 32,
   "id": "a50f4b92f2ec12fd",
   "metadata": {
    "ExecuteTime": {
     "end_time": "2024-06-10T21:00:22.662764Z",
     "start_time": "2024-06-10T21:00:22.650804Z"
    }
   },
   "outputs": [],
   "source": [
    "# Add hyperparameters here (if needed)\n",
    "\n",
    "num_hashes = 9\n",
    "hash_size = int(dim**0.75)  # Typically a small value\n",
    "hash_functions = generate_random_hash_functions(num_hashes, hash_size, dim)"
   ]
  },
  {
   "cell_type": "code",
   "execution_count": 33,
   "id": "ef371ecd242846db",
   "metadata": {},
   "outputs": [
    {
     "name": "stdout",
     "output_type": "stream",
     "text": [
      "CPU times: user 2.83 s, sys: 64.2 ms, total: 2.89 s\n",
      "Wall time: 2.17 s\n"
     ]
    }
   ],
   "source": [
    "%%time\n",
    "custom_index = custom_indexing_algorithm(index_vectors, hash_functions)"
   ]
  },
  {
   "cell_type": "code",
   "execution_count": 34,
   "id": "1c40c61275a3d001",
   "metadata": {},
   "outputs": [
    {
     "name": "stdout",
     "output_type": "stream",
     "text": [
      "CPU times: user 1.07 s, sys: 4.05 ms, total: 1.07 s\n",
      "Wall time: 1.07 s\n"
     ]
    }
   ],
   "source": [
    "%%time\n",
    "custom_index_ann = custom_index_search(query_vectors, index_vectors, hash_functions, custom_index, k, 800)"
   ]
  },
  {
   "cell_type": "code",
   "execution_count": 35,
   "id": "3ddba190c55cd0af",
   "metadata": {
    "ExecuteTime": {
     "end_time": "2024-05-27T13:30:57.922904800Z",
     "start_time": "2024-05-27T13:30:57.874785600Z"
    }
   },
   "outputs": [
    {
     "name": "stdout",
     "output_type": "stream",
     "text": [
      "recall@10 for custom_index_search: 0.83\n"
     ]
    }
   ],
   "source": [
    "print(f\"recall@10 for custom_index_search: {compute_recall_at_k(gt_nn, custom_index_ann, k)}\")"
   ]
  },
  {
   "cell_type": "code",
   "execution_count": 36,
   "id": "3e1a08b2",
   "metadata": {},
   "outputs": [],
   "source": [
    "query_vectors = np.load('data/query_vectors2.npy').astype(np.float32)\n",
    "index_vectors = np.load('data/index_vectors2.npy').astype(np.float32)\n",
    "k=10\n",
    "dim = index_vectors.shape[1]\n",
    "num_hashes = 9\n",
    "hash_size = int(dim**0.75)  # Typically a small value\n",
    "hash_functions = generate_random_hash_functions(num_hashes, hash_size, dim)"
   ]
  },
  {
   "cell_type": "code",
   "execution_count": 40,
   "id": "eff0091f",
   "metadata": {},
   "outputs": [
    {
     "name": "stdout",
     "output_type": "stream",
     "text": [
      "CPU times: user 9.93 s, sys: 28.2 ms, total: 9.96 s\n",
      "Wall time: 9.95 s\n"
     ]
    }
   ],
   "source": [
    "%%time\n",
    "gt_nn = semi_optimized_exhaustive_search(index_vectors, query_vectors, k)"
   ]
  },
  {
   "cell_type": "code",
   "execution_count": 41,
   "id": "28a0be8f",
   "metadata": {},
   "outputs": [
    {
     "name": "stdout",
     "output_type": "stream",
     "text": [
      "CPU times: user 3.34 s, sys: 32.1 ms, total: 3.37 s\n",
      "Wall time: 3.37 s\n"
     ]
    }
   ],
   "source": [
    "%%time\n",
    "custom_index = custom_indexing_algorithm(index_vectors, hash_functions)"
   ]
  },
  {
   "cell_type": "code",
   "execution_count": 42,
   "id": "9649c386",
   "metadata": {},
   "outputs": [
    {
     "name": "stdout",
     "output_type": "stream",
     "text": [
      "CPU times: user 1.15 s, sys: 0 ns, total: 1.15 s\n",
      "Wall time: 1.15 s\n"
     ]
    }
   ],
   "source": [
    "%%time\n",
    "custom_index_ann = custom_index_search(query_vectors, index_vectors, hash_functions, custom_index, k, 800)"
   ]
  },
  {
   "cell_type": "code",
   "execution_count": 43,
   "id": "9a694ea2",
   "metadata": {},
   "outputs": [
    {
     "name": "stdout",
     "output_type": "stream",
     "text": [
      "recall@10 for custom_index_search: 0.494\n"
     ]
    }
   ],
   "source": [
    "print(f\"recall@10 for custom_index_search: {compute_recall_at_k(gt_nn, custom_index_ann, k)}\")"
   ]
  },
  {
   "cell_type": "code",
   "execution_count": 44,
   "id": "b0046656",
   "metadata": {},
   "outputs": [],
   "source": [
    "query_vectors = np.load('data/query_vectors3.npy').astype(np.float32)\n",
    "index_vectors = np.load('data/index_vectors3.npy').astype(np.float32)\n",
    "k=10\n",
    "dim = index_vectors.shape[1]\n",
    "num_hashes = 9\n",
    "hash_size = int(dim**0.75)  # Typically a small value\n",
    "hash_functions = generate_random_hash_functions(num_hashes, hash_size, dim)"
   ]
  },
  {
   "cell_type": "code",
   "execution_count": 45,
   "id": "ef20cb80",
   "metadata": {},
   "outputs": [
    {
     "name": "stdout",
     "output_type": "stream",
     "text": [
      "CPU times: user 4.47 s, sys: 4.28 ms, total: 4.47 s\n",
      "Wall time: 4.47 s\n"
     ]
    }
   ],
   "source": [
    "%%time\n",
    "gt_nn = semi_optimized_exhaustive_search(index_vectors, query_vectors, k)"
   ]
  },
  {
   "cell_type": "code",
   "execution_count": 46,
   "id": "244856c0",
   "metadata": {},
   "outputs": [
    {
     "name": "stdout",
     "output_type": "stream",
     "text": [
      "CPU times: user 2.14 s, sys: 8.11 ms, total: 2.15 s\n",
      "Wall time: 2.15 s\n"
     ]
    }
   ],
   "source": [
    "%%time\n",
    "custom_index = custom_indexing_algorithm(index_vectors, hash_functions)"
   ]
  },
  {
   "cell_type": "code",
   "execution_count": 47,
   "id": "7d6d96de",
   "metadata": {},
   "outputs": [
    {
     "name": "stdout",
     "output_type": "stream",
     "text": [
      "CPU times: user 1.03 s, sys: 0 ns, total: 1.03 s\n",
      "Wall time: 1.02 s\n"
     ]
    }
   ],
   "source": [
    "%%time\n",
    "custom_index_ann = custom_index_search(query_vectors, index_vectors, hash_functions, custom_index, k, 800)"
   ]
  },
  {
   "cell_type": "code",
   "execution_count": 48,
   "id": "4821e31d",
   "metadata": {},
   "outputs": [
    {
     "name": "stdout",
     "output_type": "stream",
     "text": [
      "recall@10 for custom_index_search: 0.892\n"
     ]
    }
   ],
   "source": [
    "print(f\"recall@10 for custom_index_search: {compute_recall_at_k(gt_nn, custom_index_ann, k)}\")"
   ]
  },
  {
   "cell_type": "code",
   "execution_count": null,
   "id": "a7a761cd",
   "metadata": {},
   "outputs": [],
   "source": []
  }
 ],
 "metadata": {
  "kernelspec": {
   "display_name": "Python 3 (ipykernel)",
   "language": "python",
   "name": "python3"
  },
  "language_info": {
   "codemirror_mode": {
    "name": "ipython",
    "version": 3
   },
   "file_extension": ".py",
   "mimetype": "text/x-python",
   "name": "python",
   "nbconvert_exporter": "python",
   "pygments_lexer": "ipython3",
   "version": "3.9.18"
  }
 },
 "nbformat": 4,
 "nbformat_minor": 5
}
